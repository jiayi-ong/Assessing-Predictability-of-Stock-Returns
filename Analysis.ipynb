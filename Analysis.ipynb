{
 "cells": [
  {
   "cell_type": "markdown",
   "metadata": {},
   "source": [
    "# Code Appendix: Stage 2-3"
   ]
  },
  {
   "cell_type": "markdown",
   "metadata": {},
   "source": [
    "## Part 0. Loading and preparing data"
   ]
  },
  {
   "cell_type": "code",
   "execution_count": 1,
   "metadata": {},
   "outputs": [],
   "source": [
    "import pandas as pd\n",
    "import glob\n",
    "import numpy as np"
   ]
  },
  {
   "cell_type": "markdown",
   "metadata": {},
   "source": [
    "### Load dictionary of predictor labels and descriptions"
   ]
  },
  {
   "cell_type": "code",
   "execution_count": 2,
   "metadata": {},
   "outputs": [],
   "source": [
    "path = (\"C:/Users/Ong Jia Yi/Desktop/STUDY/4b. Fall 2020 - Winter 2021/Winter \"\n",
    "      \"- ECO421H (Macroeconomic Finance)/Assignments/Project/Data/\"\n",
    "      \"dictionary.csv\")\n",
    "\n",
    "pred_dict = pd.read_csv(path)"
   ]
  },
  {
   "cell_type": "code",
   "execution_count": 3,
   "metadata": {},
   "outputs": [
    {
     "data": {
      "text/html": [
       "<div>\n",
       "<style scoped>\n",
       "    .dataframe tbody tr th:only-of-type {\n",
       "        vertical-align: middle;\n",
       "    }\n",
       "\n",
       "    .dataframe tbody tr th {\n",
       "        vertical-align: top;\n",
       "    }\n",
       "\n",
       "    .dataframe thead th {\n",
       "        text-align: right;\n",
       "    }\n",
       "</style>\n",
       "<table border=\"1\" class=\"dataframe\">\n",
       "  <thead>\n",
       "    <tr style=\"text-align: right;\">\n",
       "      <th></th>\n",
       "      <th>Key</th>\n",
       "      <th>Value</th>\n",
       "    </tr>\n",
       "  </thead>\n",
       "  <tbody>\n",
       "    <tr>\n",
       "      <th>58</th>\n",
       "      <td>H5</td>\n",
       "      <td>Balance of Payments, Supplementary Items, Curr...</td>\n",
       "    </tr>\n",
       "    <tr>\n",
       "      <th>59</th>\n",
       "      <td>M1</td>\n",
       "      <td>Mean of this month's stock price</td>\n",
       "    </tr>\n",
       "    <tr>\n",
       "      <th>60</th>\n",
       "      <td>M2</td>\n",
       "      <td>Variance of this month's stock price</td>\n",
       "    </tr>\n",
       "    <tr>\n",
       "      <th>61</th>\n",
       "      <td>M3</td>\n",
       "      <td>Skewness of this month's stock price</td>\n",
       "    </tr>\n",
       "    <tr>\n",
       "      <th>62</th>\n",
       "      <td>M4</td>\n",
       "      <td>Kurtosis of this month's stock price</td>\n",
       "    </tr>\n",
       "  </tbody>\n",
       "</table>\n",
       "</div>"
      ],
      "text/plain": [
       "   Key                                              Value\n",
       "58  H5  Balance of Payments, Supplementary Items, Curr...\n",
       "59  M1                   Mean of this month's stock price\n",
       "60  M2               Variance of this month's stock price\n",
       "61  M3               Skewness of this month's stock price\n",
       "62  M4               Kurtosis of this month's stock price"
      ]
     },
     "execution_count": 3,
     "metadata": {},
     "output_type": "execute_result"
    }
   ],
   "source": [
    "pred_dict.tail()"
   ]
  },
  {
   "cell_type": "markdown",
   "metadata": {},
   "source": [
    "### Load and prepare datasets of predictors"
   ]
  },
  {
   "cell_type": "code",
   "execution_count": 4,
   "metadata": {},
   "outputs": [],
   "source": [
    "path = (\"C:/Users/Ong Jia Yi/Desktop/STUDY/4b. Fall 2020 - Winter 2021/Winter \"\n",
    "      \"- ECO421H (Macroeconomic Finance)/Assignments/Project/Data/\"\n",
    "      \"Classification Datasets\")\n",
    "\n",
    "filenames = glob.glob(path + \"/*.csv\")\n",
    "\n",
    "data_predictors_load = []\n",
    "for filename in filenames:\n",
    "    data_predictors_load.append(pd.read_csv(filename))"
   ]
  },
  {
   "cell_type": "code",
   "execution_count": 5,
   "metadata": {},
   "outputs": [],
   "source": [
    "path = (\"C:/Users/Ong Jia Yi/Desktop/STUDY/4b. Fall 2020 - Winter 2021/Winter \"\n",
    "      \"- ECO421H (Macroeconomic Finance)/Assignments/Project/Data/\"\n",
    "      \"Stock Datasets\")\n",
    "\n",
    "filenames = glob.glob(path + \"/*ex1*.csv\")\n",
    "\n",
    "data_predictors_load2 = []\n",
    "for filename in filenames:\n",
    "    data_predictors_load2.append(pd.read_csv(filename))"
   ]
  },
  {
   "cell_type": "code",
   "execution_count": 6,
   "metadata": {},
   "outputs": [],
   "source": [
    "data_predictors = []\n",
    "for i in range(len(data_predictors_load)):\n",
    "    a = data_predictors_load[i]\n",
    "    \n",
    "    # full variables: [\"mon_y\", \"mean\", \"var\", \"skew\", \"kurt\", \"mon\"]\n",
    "    b = data_predictors_load2[i].loc[:, [\"mon\"]]\n",
    "    # full variables: [\"M1\", \"M2\", \"M3\", \"M4\", \"mon\"]\n",
    "    b.set_axis([\"mon\"], axis=1, inplace=True)\n",
    "    \n",
    "    # choose whether to bind additional data\n",
    "    data_predictors.append(pd.concat([a, b], axis=1))"
   ]
  },
  {
   "cell_type": "code",
   "execution_count": 7,
   "metadata": {
    "scrolled": true
   },
   "outputs": [
    {
     "name": "stdout",
     "output_type": "stream",
     "text": [
      "0 CAN    dim: (84, 21) from: 2014M01 to: 2020M12\n",
      "1 GER    dim: (84, 31) from: 2014M01 to: 2020M12\n",
      "2 US     dim: (84, 27) from: 2014M01 to: 2020M12\n",
      "3 ARG    dim: (84, 28) from: 2014M01 to: 2020M12\n",
      "4 POR    dim: (84, 30) from: 2014M01 to: 2020M12\n",
      "5 RUS    dim: (84, 25) from: 2014M01 to: 2020M12\n",
      "6 CHN    dim: (84, 20) from: 2014M01 to: 2020M12\n",
      "7 SAFR   dim: (84, 28) from: 2014M01 to: 2020M12\n",
      "8 QAT    dim: (84, 22) from: 2014M01 to: 2020M12\n"
     ]
    }
   ],
   "source": [
    "# displaying indices\n",
    "for i in range(len(data_predictors)):\n",
    "    d = data_predictors[i]\n",
    "    length = d.shape\n",
    "    label = np.unique(d.Country)[0]\n",
    "    print(i, \"{:<6}\".format(label),\n",
    "          \"dim: {}\".format(length),\n",
    "         \"from: {} to: {}\".format(d.Date.iloc[0],\n",
    "                                  d.Date.iloc[-1]))"
   ]
  },
  {
   "cell_type": "markdown",
   "metadata": {},
   "source": [
    "### Load datasets of targets"
   ]
  },
  {
   "cell_type": "code",
   "execution_count": 8,
   "metadata": {},
   "outputs": [],
   "source": [
    "path = (\"C:/Users/Ong Jia Yi/Desktop/STUDY/4b. Fall 2020 - Winter 2021/Winter \"\n",
    "      \"- ECO421H (Macroeconomic Finance)/Assignments/Project/Data/\"\n",
    "      \"Stock Datasets\")\n",
    "\n",
    "filenames = glob.glob(path + \"/*ex2*.csv\")\n",
    "\n",
    "data_targets_load = []\n",
    "for filename in filenames:\n",
    "    data_targets_load.append(pd.read_csv(filename))"
   ]
  },
  {
   "cell_type": "code",
   "execution_count": 9,
   "metadata": {
    "scrolled": true
   },
   "outputs": [
    {
     "name": "stdout",
     "output_type": "stream",
     "text": [
      "0 SPTSE  nrow: 84 from: Y2014M2 to: Y2021M1\n",
      "1 DAXI   nrow: 84 from: Y2014M2 to: Y2021M1\n",
      "2 SPX    nrow: 84 from: Y2014M2 to: Y2021M1\n",
      "3 MERVAL nrow: 84 from: Y2014M2 to: Y2021M1\n",
      "4 PSI    nrow: 84 from: Y2014M2 to: Y2021M1\n",
      "5 RTSI   nrow: 84 from: Y2014M2 to: Y2021M1\n",
      "6 SSE    nrow: 84 from: Y2014M2 to: Y2021M1\n",
      "7 JSE    nrow: 84 from: Y2014M2 to: Y2021M1\n",
      "8 QE     nrow: 84 from: Y2014M2 to: Y2021M1\n"
     ]
    }
   ],
   "source": [
    "# displaying indices\n",
    "for i in range(len(data_targets_load)):\n",
    "    d = data_targets_load[i]\n",
    "    length = d.shape[0]\n",
    "    label = np.unique(d.Index)[0]\n",
    "    print(i, \"{:<6}\".format(label),\n",
    "          \"nrow: {}\".format(length),\n",
    "         \"from: {} to: {}\".format(d.mon_y.iloc[0],\n",
    "                                  d.mon_y.iloc[-1]))"
   ]
  },
  {
   "cell_type": "code",
   "execution_count": 10,
   "metadata": {},
   "outputs": [
    {
     "data": {
      "text/plain": [
       "array(['1-ahead', '2-ahead', 'Index', 'current', 'mon', 'mon_y'],\n",
       "      dtype=object)"
      ]
     },
     "execution_count": 10,
     "metadata": {},
     "output_type": "execute_result"
    }
   ],
   "source": [
    "np.unique([data_targets_load[i].columns \n",
    "          for i in range(len(data_targets_load))])"
   ]
  },
  {
   "cell_type": "markdown",
   "metadata": {},
   "source": [
    "Countries and their corresponding indexes are arranged in the same order in the lists. \n",
    "\n",
    "Target indexes start one month later and end two months later (for up to two-months ahead prediction)."
   ]
  },
  {
   "cell_type": "markdown",
   "metadata": {},
   "source": [
    "#### Rename desired column to 't' for algorithms to select as target column"
   ]
  },
  {
   "cell_type": "code",
   "execution_count": 11,
   "metadata": {},
   "outputs": [],
   "source": [
    "data_targets = [data_targets_load[i].rename(columns={\"current\":\"t\"})\n",
    "                for i in range(len(data_targets_load))]"
   ]
  },
  {
   "cell_type": "code",
   "execution_count": 12,
   "metadata": {},
   "outputs": [
    {
     "data": {
      "text/html": [
       "<div>\n",
       "<style scoped>\n",
       "    .dataframe tbody tr th:only-of-type {\n",
       "        vertical-align: middle;\n",
       "    }\n",
       "\n",
       "    .dataframe tbody tr th {\n",
       "        vertical-align: top;\n",
       "    }\n",
       "\n",
       "    .dataframe thead th {\n",
       "        text-align: right;\n",
       "    }\n",
       "</style>\n",
       "<table border=\"1\" class=\"dataframe\">\n",
       "  <thead>\n",
       "    <tr style=\"text-align: right;\">\n",
       "      <th></th>\n",
       "      <th>t</th>\n",
       "      <th>1-ahead</th>\n",
       "      <th>2-ahead</th>\n",
       "      <th>Index</th>\n",
       "      <th>mon_y</th>\n",
       "      <th>mon</th>\n",
       "    </tr>\n",
       "  </thead>\n",
       "  <tbody>\n",
       "    <tr>\n",
       "      <th>0</th>\n",
       "      <td>1</td>\n",
       "      <td>1</td>\n",
       "      <td>1</td>\n",
       "      <td>SPTSE</td>\n",
       "      <td>Y2014M2</td>\n",
       "      <td>2</td>\n",
       "    </tr>\n",
       "  </tbody>\n",
       "</table>\n",
       "</div>"
      ],
      "text/plain": [
       "   t  1-ahead  2-ahead  Index    mon_y  mon\n",
       "0  1        1        1  SPTSE  Y2014M2    2"
      ]
     },
     "execution_count": 12,
     "metadata": {},
     "output_type": "execute_result"
    }
   ],
   "source": [
    "data_targets[0].head(1)"
   ]
  },
  {
   "cell_type": "markdown",
   "metadata": {},
   "source": [
    "## Part 1. Variable Selection with Logistic Classifier"
   ]
  },
  {
   "cell_type": "code",
   "execution_count": 13,
   "metadata": {},
   "outputs": [],
   "source": [
    "from sklearn.model_selection import train_test_split\n",
    "from sklearn.linear_model import LogisticRegression"
   ]
  },
  {
   "cell_type": "markdown",
   "metadata": {},
   "source": [
    "#### Define function to fit LASSO and select important features"
   ]
  },
  {
   "cell_type": "code",
   "execution_count": 14,
   "metadata": {},
   "outputs": [],
   "source": [
    "def top_variables(data, targets, country):\n",
    "    \"\"\"Selects variables by the LASSO algorithm.\n",
    "    \n",
    "    Args:\n",
    "        data: a pd dataframe containing predictor data\n",
    "        targets: a pd dataframe containing stock (target) data\n",
    "        country: a string of the country name\n",
    "    Returns:\n",
    "        a tuple where element 0 is the country\n",
    "        name and element 1 is a list of most important variables\n",
    "        in descending order, as determined by LASSO.\n",
    "    \"\"\"\n",
    "\n",
    "    data_X = data.drop([\"Country\", \"Date\"], axis=1)\n",
    "    data_t = targets.t\n",
    "    \n",
    "    # STEP 1: fit LASSO\n",
    "    lasso_model = LogisticRegression(max_iter = 10000, solver='liblinear', \n",
    "                                     penalty='l1')\n",
    "    lasso_fit = lasso_model.fit(data_X, data_t)\n",
    "    \n",
    "    # STEP 2: extract features in order of importance\n",
    "    importance = lasso_fit.coef_[0]\n",
    "    ind = np.argsort(-abs(importance))\n",
    "    # exclude variables 'shrunk' to zero\n",
    "    top_list = [data_X.columns[i] for i in ind if importance[i] != 0]\n",
    "    out = (country, top_list)\n",
    "    \n",
    "    return out"
   ]
  },
  {
   "cell_type": "markdown",
   "metadata": {},
   "source": [
    "#### Iteratively apply function for each dataset"
   ]
  },
  {
   "cell_type": "code",
   "execution_count": 15,
   "metadata": {},
   "outputs": [],
   "source": [
    "dct_topvars = dict()\n",
    "\n",
    "for i in range(len(data_predictors)):\n",
    "    data = data_predictors[i]\n",
    "    targets = data_targets[i]\n",
    "    country = np.unique(data.Country)[0]\n",
    "    \n",
    "    top = top_variables(data, targets, country)\n",
    "    dct_topvars[top[0]] = top[1]"
   ]
  },
  {
   "cell_type": "code",
   "execution_count": 16,
   "metadata": {},
   "outputs": [],
   "source": [
    "# display top 10 for each country and change in variable count\n",
    "# from shrinkage\n",
    "indexes, col1, col2 = [], [], []\n",
    "j=0\n",
    "for i in dct_topvars.keys():\n",
    "    n = data_predictors[j].drop([\"Country\", \"Date\"], axis=1).shape[1]\n",
    "    indexes.append(i)\n",
    "    n = data_predictors[j].drop([\"Country\", \"Date\"], axis=1).shape[1]\n",
    "    col1.append(\"{} -> {}\".format(n, len(dct_topvars[i])))\n",
    "    col2.append(', '.join(dct_topvars[i][:10]))\n",
    "    j+=1"
   ]
  },
  {
   "cell_type": "code",
   "execution_count": 38,
   "metadata": {},
   "outputs": [
    {
     "data": {
      "text/html": [
       "<div>\n",
       "<style scoped>\n",
       "    .dataframe tbody tr th:only-of-type {\n",
       "        vertical-align: middle;\n",
       "    }\n",
       "\n",
       "    .dataframe tbody tr th {\n",
       "        vertical-align: top;\n",
       "    }\n",
       "\n",
       "    .dataframe thead th {\n",
       "        text-align: right;\n",
       "    }\n",
       "</style>\n",
       "<table border=\"1\" class=\"dataframe\">\n",
       "  <thead>\n",
       "    <tr style=\"text-align: right;\">\n",
       "      <th></th>\n",
       "      <th>Shrinkage</th>\n",
       "      <th>Top 10</th>\n",
       "    </tr>\n",
       "  </thead>\n",
       "  <tbody>\n",
       "    <tr>\n",
       "      <th>CAN</th>\n",
       "      <td>19 -&gt; 17</td>\n",
       "      <td>C2, mon, H2, F3, F2, E1, E3, G4, G3, H5</td>\n",
       "    </tr>\n",
       "    <tr>\n",
       "      <th>GER</th>\n",
       "      <td>29 -&gt; 18</td>\n",
       "      <td>A6, C2, C1, F2, E3, E1, F4, F3, H2, F1</td>\n",
       "    </tr>\n",
       "    <tr>\n",
       "      <th>US</th>\n",
       "      <td>25 -&gt; 18</td>\n",
       "      <td>C1, mon, A6, F2, H2, F4, E1, E3, F3, F1</td>\n",
       "    </tr>\n",
       "    <tr>\n",
       "      <th>ARG</th>\n",
       "      <td>26 -&gt; 24</td>\n",
       "      <td>B5, B7, mon, B9, H2, B10, C2, B3, A2, B1</td>\n",
       "    </tr>\n",
       "    <tr>\n",
       "      <th>POR</th>\n",
       "      <td>28 -&gt; 21</td>\n",
       "      <td>B19, B17, mon, A6, C2, C1, H2, F2, F3, E1</td>\n",
       "    </tr>\n",
       "    <tr>\n",
       "      <th>RUS</th>\n",
       "      <td>23 -&gt; 20</td>\n",
       "      <td>mon, A6, C2, B3, C1, H2, F3, F2, E3, H4</td>\n",
       "    </tr>\n",
       "    <tr>\n",
       "      <th>CHN</th>\n",
       "      <td>18 -&gt; 15</td>\n",
       "      <td>A6, C2, mon, H2, F2, F3, E2, E1, H4, H3</td>\n",
       "    </tr>\n",
       "    <tr>\n",
       "      <th>SAFR</th>\n",
       "      <td>26 -&gt; 18</td>\n",
       "      <td>B11, C2, A6, mon, F2, F3, E1, E3, H1, H4</td>\n",
       "    </tr>\n",
       "    <tr>\n",
       "      <th>QAT</th>\n",
       "      <td>20 -&gt; 19</td>\n",
       "      <td>B9, B5, B7, B1, B3, mon, F2, F3, H2, E1</td>\n",
       "    </tr>\n",
       "  </tbody>\n",
       "</table>\n",
       "</div>"
      ],
      "text/plain": [
       "     Shrinkage                                     Top 10\n",
       "CAN   19 -> 17    C2, mon, H2, F3, F2, E1, E3, G4, G3, H5\n",
       "GER   29 -> 18     A6, C2, C1, F2, E3, E1, F4, F3, H2, F1\n",
       "US    25 -> 18    C1, mon, A6, F2, H2, F4, E1, E3, F3, F1\n",
       "ARG   26 -> 24   B5, B7, mon, B9, H2, B10, C2, B3, A2, B1\n",
       "POR   28 -> 21  B19, B17, mon, A6, C2, C1, H2, F2, F3, E1\n",
       "RUS   23 -> 20    mon, A6, C2, B3, C1, H2, F3, F2, E3, H4\n",
       "CHN   18 -> 15    A6, C2, mon, H2, F2, F3, E2, E1, H4, H3\n",
       "SAFR  26 -> 18   B11, C2, A6, mon, F2, F3, E1, E3, H1, H4\n",
       "QAT   20 -> 19    B9, B5, B7, B1, B3, mon, F2, F3, H2, E1"
      ]
     },
     "execution_count": 38,
     "metadata": {},
     "output_type": "execute_result"
    }
   ],
   "source": [
    "pd.DataFrame({\"Shrinkage\": col1, \"Top 10\": col2}, index=indexes)"
   ]
  },
  {
   "cell_type": "markdown",
   "metadata": {},
   "source": [
    "## Part 2. Fitting Classifiers and Evaluating Predictability of Returns"
   ]
  },
  {
   "cell_type": "code",
   "execution_count": 18,
   "metadata": {},
   "outputs": [],
   "source": [
    "from sklearn.metrics import roc_auc_score"
   ]
  },
  {
   "cell_type": "markdown",
   "metadata": {},
   "source": [
    "#### Define function for Walk-Forward Validation"
   ]
  },
  {
   "cell_type": "code",
   "execution_count": 19,
   "metadata": {
    "scrolled": true
   },
   "outputs": [],
   "source": [
    "def walk_forward_cv(data, target, min_start, model):\n",
    "    \"\"\"Implements the walk-foward cross-validation algorithm.\n",
    "    \n",
    "    Args:\n",
    "        data: a pd dataframe of predictor data\n",
    "        target: a pd series of the binary target variable\n",
    "        min_start: (int) parameter for the starting training sample size\n",
    "        model: a sklearn model object\n",
    "    \n",
    "    Precondition: (at least as many rows as columns, less than maximum rows)\n",
    "        data.shape[1] <= min_start <= len(target) - 1\n",
    "        \n",
    "    Returns:\n",
    "        a tuple. first element is a list of training misclassification rates \n",
    "        (total misclassified cases divided by total training cases). second\n",
    "        element is a float of 1-step-ahead validation misclassification rate \n",
    "        (total misclassified cases divided by total validation cases).\n",
    "    \"\"\"\n",
    "    miss_train, miss_test = [], []\n",
    "    n = len(target)\n",
    "    \n",
    "    i = min_start\n",
    "    while i <= n - 1:\n",
    "        X_train = data[:i]\n",
    "        y_train = target[:i]\n",
    "        X_test = data[i:i + 1]\n",
    "        y_test = target[i:i + 1]\n",
    "        \n",
    "        model_fit = model.fit(X_train, y_train)\n",
    "        pred_train = model_fit.predict(X_train)\n",
    "        pred_test = model_fit.predict(X_test)\n",
    "        \n",
    "        miss_train.append(sum(pred_train != y_train)/len(y_train))\n",
    "        miss_test.append(sum(pred_test != y_test))\n",
    "        \n",
    "        i += 1\n",
    "        \n",
    "    err_v = sum(miss_test)/(n - min_start)\n",
    "    \n",
    "    return (miss_train, err_v)"
   ]
  },
  {
   "cell_type": "markdown",
   "metadata": {},
   "source": [
    "#### Define function to evaluate predictability with model on all datasets"
   ]
  },
  {
   "cell_type": "code",
   "execution_count": 20,
   "metadata": {},
   "outputs": [],
   "source": [
    "def eval_model(model, min_start, countries, data_predictors,\n",
    "               data_targets, dct_topvars, top_n):\n",
    "    \"\"\"Evaluates predictability with <model> based on\n",
    "    walk-forward cross-validation error rates and AUC score.\n",
    "    \n",
    "    Args:\n",
    "        model: a sklearn model object\n",
    "        min_start: (int) parameter for the starting training sample size\n",
    "                    for the walk-forward cv algorithm\n",
    "        countries: a list of country labels ordered by the \n",
    "                   sequence of appearance in <data_predictors>\n",
    "        data_predictors: a list of datasets of predictors\n",
    "        data_targets: a list of datasets of the target variable\n",
    "        dct_topvars: a dictionary mapping country labels to their\n",
    "                     most important features\n",
    "    Returns:\n",
    "        a pd dataframe where the columns are the walk-forward\n",
    "        cross-validation training and validation error and the\n",
    "        AUC score. Each row is the scores for each country.\n",
    "    \"\"\"\n",
    "    err_t, err_v, auc = [], [], []\n",
    "    \n",
    "    for i in range(len(data_predictors)):\n",
    "        data = data_predictors[i].drop([\"Country\", \"Date\"], axis=1)\n",
    "        \n",
    "        # use only top_n most important features\n",
    "        if top_n == \"all\":\n",
    "            select = dct_topvars[countries[i]]\n",
    "        else:\n",
    "            select = dct_topvars[countries[i]][:top_n]\n",
    "        data = data.loc[:,select]\n",
    "        target = data_targets[i].t\n",
    "        \n",
    "        # runs walk_forward cv algorithm\n",
    "        cv = walk_forward_cv(data, target, min_start, model)\n",
    "        err_t.append(np.mean(cv[0]))\n",
    "        err_v.append(cv[1])\n",
    "        \n",
    "        # computes AUC score using 70-30 train-test split\n",
    "        X_train, X_test, y_train, y_test = \\\n",
    "        train_test_split(data, target, test_size = 0.3, random_state = 0)\n",
    "        model_fit = model.fit(X_train, y_train)\n",
    "        pred = model_fit.predict(X_test)\n",
    "        score = roc_auc_score(y_test, pred)\n",
    "        auc.append(score)\n",
    "        \n",
    "    out = pd.DataFrame({\"Training Error (mean)\": err_t,\n",
    "                        \"Validation Error\": err_v,\n",
    "                        \"AUC Scores\": auc})\n",
    "    out.set_axis(countries, axis=0, inplace=True)\n",
    "        \n",
    "    return out"
   ]
  },
  {
   "cell_type": "code",
   "execution_count": 21,
   "metadata": {},
   "outputs": [
    {
     "data": {
      "text/plain": [
       "['CAN', 'GER', 'US', 'ARG', 'POR', 'RUS', 'CHN', 'SAFR', 'QAT']"
      ]
     },
     "execution_count": 21,
     "metadata": {},
     "output_type": "execute_result"
    }
   ],
   "source": [
    "countries = list(dct_topvars.keys())\n",
    "countries"
   ]
  },
  {
   "cell_type": "markdown",
   "metadata": {},
   "source": [
    "### 1. Evaluate predictability with standard Logistic Classifier"
   ]
  },
  {
   "cell_type": "code",
   "execution_count": 22,
   "metadata": {},
   "outputs": [],
   "source": [
    "model1 = LogisticRegression(max_iter=10000)"
   ]
  },
  {
   "cell_type": "code",
   "execution_count": 23,
   "metadata": {},
   "outputs": [
    {
     "name": "stdout",
     "output_type": "stream",
     "text": [
      "Wall time: 8.83 s\n"
     ]
    }
   ],
   "source": [
    "%%time\n",
    "e1 = eval_model(model1, 59, countries, data_predictors,\n",
    "                data_targets, dct_topvars, 10)"
   ]
  },
  {
   "cell_type": "code",
   "execution_count": 24,
   "metadata": {},
   "outputs": [
    {
     "data": {
      "text/html": [
       "<div>\n",
       "<style scoped>\n",
       "    .dataframe tbody tr th:only-of-type {\n",
       "        vertical-align: middle;\n",
       "    }\n",
       "\n",
       "    .dataframe tbody tr th {\n",
       "        vertical-align: top;\n",
       "    }\n",
       "\n",
       "    .dataframe thead th {\n",
       "        text-align: right;\n",
       "    }\n",
       "</style>\n",
       "<table border=\"1\" class=\"dataframe\">\n",
       "  <thead>\n",
       "    <tr style=\"text-align: right;\">\n",
       "      <th></th>\n",
       "      <th>Training Error (mean)</th>\n",
       "      <th>Validation Error</th>\n",
       "      <th>AUC Scores</th>\n",
       "    </tr>\n",
       "  </thead>\n",
       "  <tbody>\n",
       "    <tr>\n",
       "      <th>CAN</th>\n",
       "      <td>0.3099</td>\n",
       "      <td>0.40</td>\n",
       "      <td>0.5655</td>\n",
       "    </tr>\n",
       "    <tr>\n",
       "      <th>GER</th>\n",
       "      <td>0.3769</td>\n",
       "      <td>0.52</td>\n",
       "      <td>0.7188</td>\n",
       "    </tr>\n",
       "    <tr>\n",
       "      <th>US</th>\n",
       "      <td>0.3194</td>\n",
       "      <td>0.28</td>\n",
       "      <td>0.5242</td>\n",
       "    </tr>\n",
       "    <tr>\n",
       "      <th>ARG</th>\n",
       "      <td>0.3616</td>\n",
       "      <td>0.48</td>\n",
       "      <td>0.3273</td>\n",
       "    </tr>\n",
       "    <tr>\n",
       "      <th>POR</th>\n",
       "      <td>0.4153</td>\n",
       "      <td>0.64</td>\n",
       "      <td>0.5694</td>\n",
       "    </tr>\n",
       "    <tr>\n",
       "      <th>RUS</th>\n",
       "      <td>0.3020</td>\n",
       "      <td>0.52</td>\n",
       "      <td>0.5686</td>\n",
       "    </tr>\n",
       "    <tr>\n",
       "      <th>CHN</th>\n",
       "      <td>0.3824</td>\n",
       "      <td>0.36</td>\n",
       "      <td>0.5500</td>\n",
       "    </tr>\n",
       "    <tr>\n",
       "      <th>SAFR</th>\n",
       "      <td>0.3455</td>\n",
       "      <td>0.48</td>\n",
       "      <td>0.5000</td>\n",
       "    </tr>\n",
       "    <tr>\n",
       "      <th>QAT</th>\n",
       "      <td>0.3701</td>\n",
       "      <td>0.48</td>\n",
       "      <td>0.6091</td>\n",
       "    </tr>\n",
       "  </tbody>\n",
       "</table>\n",
       "</div>"
      ],
      "text/plain": [
       "      Training Error (mean)  Validation Error  AUC Scores\n",
       "CAN                  0.3099              0.40      0.5655\n",
       "GER                  0.3769              0.52      0.7188\n",
       "US                   0.3194              0.28      0.5242\n",
       "ARG                  0.3616              0.48      0.3273\n",
       "POR                  0.4153              0.64      0.5694\n",
       "RUS                  0.3020              0.52      0.5686\n",
       "CHN                  0.3824              0.36      0.5500\n",
       "SAFR                 0.3455              0.48      0.5000\n",
       "QAT                  0.3701              0.48      0.6091"
      ]
     },
     "execution_count": 24,
     "metadata": {},
     "output_type": "execute_result"
    }
   ],
   "source": [
    "round(e1, 4)"
   ]
  },
  {
   "cell_type": "markdown",
   "metadata": {},
   "source": [
    "### 2. Evaluate predictability with Random Forest"
   ]
  },
  {
   "cell_type": "code",
   "execution_count": 25,
   "metadata": {},
   "outputs": [],
   "source": [
    "from sklearn.ensemble import RandomForestClassifier"
   ]
  },
  {
   "cell_type": "code",
   "execution_count": 26,
   "metadata": {},
   "outputs": [],
   "source": [
    "model2 = RandomForestClassifier(random_state=0, max_depth=10,\n",
    "                                min_samples_leaf=2)"
   ]
  },
  {
   "cell_type": "code",
   "execution_count": 27,
   "metadata": {},
   "outputs": [
    {
     "name": "stdout",
     "output_type": "stream",
     "text": [
      "Wall time: 30.5 s\n"
     ]
    }
   ],
   "source": [
    "%%time\n",
    "e2 = eval_model(model2, 59, countries, data_predictors,\n",
    "                data_targets, dct_topvars, 10)"
   ]
  },
  {
   "cell_type": "code",
   "execution_count": 28,
   "metadata": {},
   "outputs": [
    {
     "data": {
      "text/html": [
       "<div>\n",
       "<style scoped>\n",
       "    .dataframe tbody tr th:only-of-type {\n",
       "        vertical-align: middle;\n",
       "    }\n",
       "\n",
       "    .dataframe tbody tr th {\n",
       "        vertical-align: top;\n",
       "    }\n",
       "\n",
       "    .dataframe thead th {\n",
       "        text-align: right;\n",
       "    }\n",
       "</style>\n",
       "<table border=\"1\" class=\"dataframe\">\n",
       "  <thead>\n",
       "    <tr style=\"text-align: right;\">\n",
       "      <th></th>\n",
       "      <th>Training Error (mean)</th>\n",
       "      <th>Validation Error</th>\n",
       "      <th>AUC Scores</th>\n",
       "    </tr>\n",
       "  </thead>\n",
       "  <tbody>\n",
       "    <tr>\n",
       "      <th>CAN</th>\n",
       "      <td>0.04792</td>\n",
       "      <td>0.44</td>\n",
       "      <td>0.55952</td>\n",
       "    </tr>\n",
       "    <tr>\n",
       "      <th>GER</th>\n",
       "      <td>0.01727</td>\n",
       "      <td>0.56</td>\n",
       "      <td>0.56875</td>\n",
       "    </tr>\n",
       "    <tr>\n",
       "      <th>US</th>\n",
       "      <td>0.03551</td>\n",
       "      <td>0.32</td>\n",
       "      <td>0.52424</td>\n",
       "    </tr>\n",
       "    <tr>\n",
       "      <th>ARG</th>\n",
       "      <td>0.00560</td>\n",
       "      <td>0.52</td>\n",
       "      <td>0.51818</td>\n",
       "    </tr>\n",
       "    <tr>\n",
       "      <th>POR</th>\n",
       "      <td>0.01717</td>\n",
       "      <td>0.48</td>\n",
       "      <td>0.65972</td>\n",
       "    </tr>\n",
       "    <tr>\n",
       "      <th>RUS</th>\n",
       "      <td>0.03011</td>\n",
       "      <td>0.52</td>\n",
       "      <td>0.62745</td>\n",
       "    </tr>\n",
       "    <tr>\n",
       "      <th>CHN</th>\n",
       "      <td>0.00988</td>\n",
       "      <td>0.72</td>\n",
       "      <td>0.45625</td>\n",
       "    </tr>\n",
       "    <tr>\n",
       "      <th>SAFR</th>\n",
       "      <td>0.01833</td>\n",
       "      <td>0.48</td>\n",
       "      <td>0.53846</td>\n",
       "    </tr>\n",
       "    <tr>\n",
       "      <th>QAT</th>\n",
       "      <td>0.01625</td>\n",
       "      <td>0.56</td>\n",
       "      <td>0.50606</td>\n",
       "    </tr>\n",
       "  </tbody>\n",
       "</table>\n",
       "</div>"
      ],
      "text/plain": [
       "      Training Error (mean)  Validation Error  AUC Scores\n",
       "CAN                 0.04792              0.44     0.55952\n",
       "GER                 0.01727              0.56     0.56875\n",
       "US                  0.03551              0.32     0.52424\n",
       "ARG                 0.00560              0.52     0.51818\n",
       "POR                 0.01717              0.48     0.65972\n",
       "RUS                 0.03011              0.52     0.62745\n",
       "CHN                 0.00988              0.72     0.45625\n",
       "SAFR                0.01833              0.48     0.53846\n",
       "QAT                 0.01625              0.56     0.50606"
      ]
     },
     "execution_count": 28,
     "metadata": {},
     "output_type": "execute_result"
    }
   ],
   "source": [
    "round(e2, 5)"
   ]
  },
  {
   "cell_type": "markdown",
   "metadata": {},
   "source": [
    "### 3. Evaluate predictability with KNN(2-9)"
   ]
  },
  {
   "cell_type": "code",
   "execution_count": 29,
   "metadata": {},
   "outputs": [],
   "source": [
    "from sklearn.neighbors import KNeighborsClassifier"
   ]
  },
  {
   "cell_type": "code",
   "execution_count": 30,
   "metadata": {},
   "outputs": [],
   "source": [
    "model3_1 = KNeighborsClassifier(n_neighbors = 2)\n",
    "model3_2 = KNeighborsClassifier(n_neighbors = 3)\n",
    "model3_3 = KNeighborsClassifier(n_neighbors = 4)\n",
    "model3_4 = KNeighborsClassifier(n_neighbors = 5)\n",
    "model3_5 = KNeighborsClassifier(n_neighbors = 6)\n",
    "model3_6 = KNeighborsClassifier(n_neighbors = 7)\n",
    "model3_7 = KNeighborsClassifier(n_neighbors = 8)\n",
    "model3_8 = KNeighborsClassifier(n_neighbors = 9)"
   ]
  },
  {
   "cell_type": "code",
   "execution_count": 31,
   "metadata": {},
   "outputs": [
    {
     "name": "stdout",
     "output_type": "stream",
     "text": [
      "Wall time: 13.7 s\n"
     ]
    }
   ],
   "source": [
    "%%time\n",
    "n_start = 59\n",
    "n = 10 # specify number of top variables to use, or \"all\"\n",
    "e3_1 = eval_model(model3_1, n_start, countries, data_predictors,\n",
    "                  data_targets, dct_topvars, n)\n",
    "e3_2 = eval_model(model3_2, n_start, countries, data_predictors,\n",
    "                  data_targets, dct_topvars, n)\n",
    "e3_3 = eval_model(model3_3, n_start, countries, data_predictors,\n",
    "                  data_targets, dct_topvars, n)\n",
    "e3_4 = eval_model(model3_4, n_start, countries, data_predictors,\n",
    "                  data_targets, dct_topvars, n)\n",
    "e3_5 = eval_model(model3_5, n_start, countries, data_predictors,\n",
    "                  data_targets, dct_topvars, n)\n",
    "e3_6 = eval_model(model3_6, n_start, countries, data_predictors,\n",
    "                  data_targets, dct_topvars, n)\n",
    "e3_7 = eval_model(model3_7, n_start, countries, data_predictors,\n",
    "                  data_targets, dct_topvars, n)\n",
    "e3_8 = eval_model(model3_8, n_start, countries, data_predictors,\n",
    "                  data_targets, dct_topvars, n)"
   ]
  },
  {
   "cell_type": "code",
   "execution_count": 32,
   "metadata": {},
   "outputs": [],
   "source": [
    "table3 = pd.concat([e3_1, e3_2, e3_3, e3_4, e3_5, e3_6, e3_7, e3_8], axis=1)\n",
    "table3.columns = [' | '.join([i, j]) \n",
    "                 for i in [\"k=2\", \"k=3\", \"k=4\", \"k=5\", \"k=6\", \"k=7\", \"k=8\", \"k=9\"] \n",
    "                 for j in [\"err_t\", \"err_v\", \"auc\"]]"
   ]
  },
  {
   "cell_type": "code",
   "execution_count": 33,
   "metadata": {},
   "outputs": [
    {
     "data": {
      "text/html": [
       "<div>\n",
       "<style scoped>\n",
       "    .dataframe tbody tr th:only-of-type {\n",
       "        vertical-align: middle;\n",
       "    }\n",
       "\n",
       "    .dataframe tbody tr th {\n",
       "        vertical-align: top;\n",
       "    }\n",
       "\n",
       "    .dataframe thead th {\n",
       "        text-align: right;\n",
       "    }\n",
       "</style>\n",
       "<table border=\"1\" class=\"dataframe\">\n",
       "  <thead>\n",
       "    <tr style=\"text-align: right;\">\n",
       "      <th></th>\n",
       "      <th>k=2 | err_v</th>\n",
       "      <th>k=3 | err_v</th>\n",
       "      <th>k=4 | err_v</th>\n",
       "      <th>k=5 | err_v</th>\n",
       "      <th>k=6 | err_v</th>\n",
       "      <th>k=7 | err_v</th>\n",
       "      <th>k=8 | err_v</th>\n",
       "      <th>k=9 | err_v</th>\n",
       "    </tr>\n",
       "  </thead>\n",
       "  <tbody>\n",
       "    <tr>\n",
       "      <th>CAN</th>\n",
       "      <td>0.48</td>\n",
       "      <td>0.60</td>\n",
       "      <td>0.64</td>\n",
       "      <td>0.60</td>\n",
       "      <td>0.60</td>\n",
       "      <td>0.48</td>\n",
       "      <td>0.48</td>\n",
       "      <td>0.48</td>\n",
       "    </tr>\n",
       "    <tr>\n",
       "      <th>GER</th>\n",
       "      <td>0.56</td>\n",
       "      <td>0.60</td>\n",
       "      <td>0.60</td>\n",
       "      <td>0.52</td>\n",
       "      <td>0.52</td>\n",
       "      <td>0.40</td>\n",
       "      <td>0.56</td>\n",
       "      <td>0.44</td>\n",
       "    </tr>\n",
       "    <tr>\n",
       "      <th>US</th>\n",
       "      <td>0.36</td>\n",
       "      <td>0.48</td>\n",
       "      <td>0.32</td>\n",
       "      <td>0.36</td>\n",
       "      <td>0.36</td>\n",
       "      <td>0.36</td>\n",
       "      <td>0.28</td>\n",
       "      <td>0.36</td>\n",
       "    </tr>\n",
       "    <tr>\n",
       "      <th>ARG</th>\n",
       "      <td>0.52</td>\n",
       "      <td>0.56</td>\n",
       "      <td>0.52</td>\n",
       "      <td>0.60</td>\n",
       "      <td>0.60</td>\n",
       "      <td>0.56</td>\n",
       "      <td>0.68</td>\n",
       "      <td>0.68</td>\n",
       "    </tr>\n",
       "    <tr>\n",
       "      <th>POR</th>\n",
       "      <td>0.44</td>\n",
       "      <td>0.40</td>\n",
       "      <td>0.36</td>\n",
       "      <td>0.40</td>\n",
       "      <td>0.48</td>\n",
       "      <td>0.48</td>\n",
       "      <td>0.48</td>\n",
       "      <td>0.32</td>\n",
       "    </tr>\n",
       "    <tr>\n",
       "      <th>RUS</th>\n",
       "      <td>0.52</td>\n",
       "      <td>0.68</td>\n",
       "      <td>0.56</td>\n",
       "      <td>0.56</td>\n",
       "      <td>0.48</td>\n",
       "      <td>0.60</td>\n",
       "      <td>0.48</td>\n",
       "      <td>0.64</td>\n",
       "    </tr>\n",
       "    <tr>\n",
       "      <th>CHN</th>\n",
       "      <td>0.56</td>\n",
       "      <td>0.68</td>\n",
       "      <td>0.60</td>\n",
       "      <td>0.60</td>\n",
       "      <td>0.56</td>\n",
       "      <td>0.56</td>\n",
       "      <td>0.52</td>\n",
       "      <td>0.52</td>\n",
       "    </tr>\n",
       "    <tr>\n",
       "      <th>SAFR</th>\n",
       "      <td>0.48</td>\n",
       "      <td>0.44</td>\n",
       "      <td>0.40</td>\n",
       "      <td>0.44</td>\n",
       "      <td>0.36</td>\n",
       "      <td>0.40</td>\n",
       "      <td>0.36</td>\n",
       "      <td>0.52</td>\n",
       "    </tr>\n",
       "    <tr>\n",
       "      <th>QAT</th>\n",
       "      <td>0.48</td>\n",
       "      <td>0.52</td>\n",
       "      <td>0.40</td>\n",
       "      <td>0.40</td>\n",
       "      <td>0.28</td>\n",
       "      <td>0.24</td>\n",
       "      <td>0.32</td>\n",
       "      <td>0.28</td>\n",
       "    </tr>\n",
       "  </tbody>\n",
       "</table>\n",
       "</div>"
      ],
      "text/plain": [
       "      k=2 | err_v  k=3 | err_v  k=4 | err_v  k=5 | err_v  k=6 | err_v  \\\n",
       "CAN          0.48         0.60         0.64         0.60         0.60   \n",
       "GER          0.56         0.60         0.60         0.52         0.52   \n",
       "US           0.36         0.48         0.32         0.36         0.36   \n",
       "ARG          0.52         0.56         0.52         0.60         0.60   \n",
       "POR          0.44         0.40         0.36         0.40         0.48   \n",
       "RUS          0.52         0.68         0.56         0.56         0.48   \n",
       "CHN          0.56         0.68         0.60         0.60         0.56   \n",
       "SAFR         0.48         0.44         0.40         0.44         0.36   \n",
       "QAT          0.48         0.52         0.40         0.40         0.28   \n",
       "\n",
       "      k=7 | err_v  k=8 | err_v  k=9 | err_v  \n",
       "CAN          0.48         0.48         0.48  \n",
       "GER          0.40         0.56         0.44  \n",
       "US           0.36         0.28         0.36  \n",
       "ARG          0.56         0.68         0.68  \n",
       "POR          0.48         0.48         0.32  \n",
       "RUS          0.60         0.48         0.64  \n",
       "CHN          0.56         0.52         0.52  \n",
       "SAFR         0.40         0.36         0.52  \n",
       "QAT          0.24         0.32         0.28  "
      ]
     },
     "execution_count": 33,
     "metadata": {},
     "output_type": "execute_result"
    }
   ],
   "source": [
    "# validation errors\n",
    "table3.loc[:, table3.columns.str.contains(\"/*err_v\")]"
   ]
  },
  {
   "cell_type": "markdown",
   "metadata": {},
   "source": [
    "### 4. Evaluating predictability with Naive Bayes Classifier"
   ]
  },
  {
   "cell_type": "code",
   "execution_count": 34,
   "metadata": {},
   "outputs": [],
   "source": [
    "from sklearn.naive_bayes import GaussianNB"
   ]
  },
  {
   "cell_type": "code",
   "execution_count": 39,
   "metadata": {},
   "outputs": [],
   "source": [
    "model4 = GaussianNB()"
   ]
  },
  {
   "cell_type": "code",
   "execution_count": 40,
   "metadata": {},
   "outputs": [
    {
     "name": "stdout",
     "output_type": "stream",
     "text": [
      "Wall time: 1.11 s\n"
     ]
    }
   ],
   "source": [
    "%%time\n",
    "e4 = eval_model(model4, 59, countries, data_predictors,\n",
    "                data_targets, dct_topvars, 10)"
   ]
  },
  {
   "cell_type": "code",
   "execution_count": 41,
   "metadata": {
    "scrolled": true
   },
   "outputs": [
    {
     "data": {
      "text/html": [
       "<div>\n",
       "<style scoped>\n",
       "    .dataframe tbody tr th:only-of-type {\n",
       "        vertical-align: middle;\n",
       "    }\n",
       "\n",
       "    .dataframe tbody tr th {\n",
       "        vertical-align: top;\n",
       "    }\n",
       "\n",
       "    .dataframe thead th {\n",
       "        text-align: right;\n",
       "    }\n",
       "</style>\n",
       "<table border=\"1\" class=\"dataframe\">\n",
       "  <thead>\n",
       "    <tr style=\"text-align: right;\">\n",
       "      <th></th>\n",
       "      <th>Training Error (mean)</th>\n",
       "      <th>Validation Error</th>\n",
       "      <th>AUC Scores</th>\n",
       "    </tr>\n",
       "  </thead>\n",
       "  <tbody>\n",
       "    <tr>\n",
       "      <th>CAN</th>\n",
       "      <td>0.380772</td>\n",
       "      <td>0.52</td>\n",
       "      <td>0.452381</td>\n",
       "    </tr>\n",
       "    <tr>\n",
       "      <th>GER</th>\n",
       "      <td>0.366569</td>\n",
       "      <td>0.68</td>\n",
       "      <td>0.600000</td>\n",
       "    </tr>\n",
       "    <tr>\n",
       "      <th>US</th>\n",
       "      <td>0.385313</td>\n",
       "      <td>0.32</td>\n",
       "      <td>0.515152</td>\n",
       "    </tr>\n",
       "    <tr>\n",
       "      <th>ARG</th>\n",
       "      <td>0.417207</td>\n",
       "      <td>0.56</td>\n",
       "      <td>0.406061</td>\n",
       "    </tr>\n",
       "    <tr>\n",
       "      <th>POR</th>\n",
       "      <td>0.402220</td>\n",
       "      <td>0.52</td>\n",
       "      <td>0.513889</td>\n",
       "    </tr>\n",
       "    <tr>\n",
       "      <th>RUS</th>\n",
       "      <td>0.478660</td>\n",
       "      <td>0.48</td>\n",
       "      <td>0.558824</td>\n",
       "    </tr>\n",
       "    <tr>\n",
       "      <th>CHN</th>\n",
       "      <td>0.395590</td>\n",
       "      <td>0.52</td>\n",
       "      <td>0.575000</td>\n",
       "    </tr>\n",
       "    <tr>\n",
       "      <th>SAFR</th>\n",
       "      <td>0.378957</td>\n",
       "      <td>0.44</td>\n",
       "      <td>0.461538</td>\n",
       "    </tr>\n",
       "    <tr>\n",
       "      <th>QAT</th>\n",
       "      <td>0.423812</td>\n",
       "      <td>0.36</td>\n",
       "      <td>0.627273</td>\n",
       "    </tr>\n",
       "  </tbody>\n",
       "</table>\n",
       "</div>"
      ],
      "text/plain": [
       "      Training Error (mean)  Validation Error  AUC Scores\n",
       "CAN                0.380772              0.52    0.452381\n",
       "GER                0.366569              0.68    0.600000\n",
       "US                 0.385313              0.32    0.515152\n",
       "ARG                0.417207              0.56    0.406061\n",
       "POR                0.402220              0.52    0.513889\n",
       "RUS                0.478660              0.48    0.558824\n",
       "CHN                0.395590              0.52    0.575000\n",
       "SAFR               0.378957              0.44    0.461538\n",
       "QAT                0.423812              0.36    0.627273"
      ]
     },
     "execution_count": 41,
     "metadata": {},
     "output_type": "execute_result"
    }
   ],
   "source": [
    "e4"
   ]
  },
  {
   "cell_type": "markdown",
   "metadata": {},
   "source": [
    "### 5. Evaluating predictability with Multilayer Perceptron Classifier"
   ]
  },
  {
   "cell_type": "code",
   "execution_count": 42,
   "metadata": {},
   "outputs": [],
   "source": [
    "from sklearn.neural_network import MLPClassifier"
   ]
  },
  {
   "cell_type": "code",
   "execution_count": 43,
   "metadata": {},
   "outputs": [],
   "source": [
    "model5_1 = MLPClassifier(hidden_layer_sizes=(100,)*1,\n",
    "                         activation=\"relu\", max_iter=1000)\n",
    "model5_2 = MLPClassifier(hidden_layer_sizes=(100,)*2,\n",
    "                         activation=\"relu\", max_iter=1000)\n",
    "model5_3 = MLPClassifier(hidden_layer_sizes=(100,)*3,\n",
    "                         activation=\"relu\", max_iter=1000)\n",
    "model5_4 = MLPClassifier(hidden_layer_sizes=(100,)*4,\n",
    "                         activation=\"relu\", max_iter=1000)\n",
    "model5_5 = MLPClassifier(hidden_layer_sizes=(100,)*5,\n",
    "                         activation=\"relu\", max_iter=1000)\n",
    "model5_6 = MLPClassifier(hidden_layer_sizes=(100,)*6,\n",
    "                         activation=\"relu\", max_iter=1000)\n",
    "model5_7 = MLPClassifier(hidden_layer_sizes=(100,)*7,\n",
    "                         activation=\"relu\", max_iter=1000)"
   ]
  },
  {
   "cell_type": "code",
   "execution_count": 44,
   "metadata": {},
   "outputs": [
    {
     "name": "stdout",
     "output_type": "stream",
     "text": [
      "Wall time: 2min 44s\n"
     ]
    }
   ],
   "source": [
    "%%time\n",
    "n_start = 59\n",
    "n = 10\n",
    "e5_1 = eval_model(model5_1, n_start, countries, data_predictors,\n",
    "                  data_targets, dct_topvars, \"all\")\n",
    "e5_2 = eval_model(model5_2, n_start, countries, data_predictors,\n",
    "                  data_targets, dct_topvars, \"all\")\n",
    "e5_3 = eval_model(model5_3, n_start, countries, data_predictors,\n",
    "                  data_targets, dct_topvars, \"all\")\n",
    "e5_4 = eval_model(model5_4, n_start, countries, data_predictors,\n",
    "                  data_targets, dct_topvars, \"all\")\n",
    "e5_5 = eval_model(model5_5, n_start, countries, data_predictors,\n",
    "                  data_targets, dct_topvars, \"all\")\n",
    "e5_6 = eval_model(model5_6, n_start, countries, data_predictors,\n",
    "                  data_targets, dct_topvars, \"all\")\n",
    "e5_7 = eval_model(model5_6, n_start, countries, data_predictors,\n",
    "                  data_targets, dct_topvars, \"all\")"
   ]
  },
  {
   "cell_type": "code",
   "execution_count": 45,
   "metadata": {},
   "outputs": [],
   "source": [
    "table5 = pd.concat([e5_1, e5_2, e5_3, e5_4, e5_5, e5_6, e5_7], axis=1)\n",
    "table5.columns = [' | '.join([i, j]) \n",
    "                 for i in [\"d=1\", \"d=2\", \"d=3\", \"d=4\", \"d=5\", \"d=6\", \"d=7\"] \n",
    "                 for j in [\"err_t\", \"err_v\", \"auc\"]]"
   ]
  },
  {
   "cell_type": "code",
   "execution_count": 46,
   "metadata": {},
   "outputs": [
    {
     "data": {
      "text/html": [
       "<div>\n",
       "<style scoped>\n",
       "    .dataframe tbody tr th:only-of-type {\n",
       "        vertical-align: middle;\n",
       "    }\n",
       "\n",
       "    .dataframe tbody tr th {\n",
       "        vertical-align: top;\n",
       "    }\n",
       "\n",
       "    .dataframe thead th {\n",
       "        text-align: right;\n",
       "    }\n",
       "</style>\n",
       "<table border=\"1\" class=\"dataframe\">\n",
       "  <thead>\n",
       "    <tr style=\"text-align: right;\">\n",
       "      <th></th>\n",
       "      <th>d=1 | err_v</th>\n",
       "      <th>d=2 | err_v</th>\n",
       "      <th>d=3 | err_v</th>\n",
       "      <th>d=4 | err_v</th>\n",
       "      <th>d=5 | err_v</th>\n",
       "      <th>d=6 | err_v</th>\n",
       "      <th>d=7 | err_v</th>\n",
       "    </tr>\n",
       "  </thead>\n",
       "  <tbody>\n",
       "    <tr>\n",
       "      <th>CAN</th>\n",
       "      <td>0.48</td>\n",
       "      <td>0.44</td>\n",
       "      <td>0.44</td>\n",
       "      <td>0.48</td>\n",
       "      <td>0.68</td>\n",
       "      <td>0.48</td>\n",
       "      <td>0.52</td>\n",
       "    </tr>\n",
       "    <tr>\n",
       "      <th>GER</th>\n",
       "      <td>0.60</td>\n",
       "      <td>0.56</td>\n",
       "      <td>0.48</td>\n",
       "      <td>0.56</td>\n",
       "      <td>0.56</td>\n",
       "      <td>0.36</td>\n",
       "      <td>0.60</td>\n",
       "    </tr>\n",
       "    <tr>\n",
       "      <th>US</th>\n",
       "      <td>0.56</td>\n",
       "      <td>0.56</td>\n",
       "      <td>0.32</td>\n",
       "      <td>0.56</td>\n",
       "      <td>0.44</td>\n",
       "      <td>0.40</td>\n",
       "      <td>0.36</td>\n",
       "    </tr>\n",
       "    <tr>\n",
       "      <th>ARG</th>\n",
       "      <td>0.40</td>\n",
       "      <td>0.52</td>\n",
       "      <td>0.56</td>\n",
       "      <td>0.60</td>\n",
       "      <td>0.28</td>\n",
       "      <td>0.48</td>\n",
       "      <td>0.44</td>\n",
       "    </tr>\n",
       "    <tr>\n",
       "      <th>POR</th>\n",
       "      <td>0.40</td>\n",
       "      <td>0.48</td>\n",
       "      <td>0.36</td>\n",
       "      <td>0.60</td>\n",
       "      <td>0.48</td>\n",
       "      <td>0.48</td>\n",
       "      <td>0.60</td>\n",
       "    </tr>\n",
       "    <tr>\n",
       "      <th>RUS</th>\n",
       "      <td>0.60</td>\n",
       "      <td>0.64</td>\n",
       "      <td>0.52</td>\n",
       "      <td>0.64</td>\n",
       "      <td>0.52</td>\n",
       "      <td>0.52</td>\n",
       "      <td>0.64</td>\n",
       "    </tr>\n",
       "    <tr>\n",
       "      <th>CHN</th>\n",
       "      <td>0.56</td>\n",
       "      <td>0.56</td>\n",
       "      <td>0.56</td>\n",
       "      <td>0.32</td>\n",
       "      <td>0.40</td>\n",
       "      <td>0.48</td>\n",
       "      <td>0.48</td>\n",
       "    </tr>\n",
       "    <tr>\n",
       "      <th>SAFR</th>\n",
       "      <td>0.56</td>\n",
       "      <td>0.32</td>\n",
       "      <td>0.36</td>\n",
       "      <td>0.36</td>\n",
       "      <td>0.76</td>\n",
       "      <td>0.60</td>\n",
       "      <td>0.56</td>\n",
       "    </tr>\n",
       "    <tr>\n",
       "      <th>QAT</th>\n",
       "      <td>0.52</td>\n",
       "      <td>0.36</td>\n",
       "      <td>0.44</td>\n",
       "      <td>0.68</td>\n",
       "      <td>0.76</td>\n",
       "      <td>0.56</td>\n",
       "      <td>0.56</td>\n",
       "    </tr>\n",
       "  </tbody>\n",
       "</table>\n",
       "</div>"
      ],
      "text/plain": [
       "      d=1 | err_v  d=2 | err_v  d=3 | err_v  d=4 | err_v  d=5 | err_v  \\\n",
       "CAN          0.48         0.44         0.44         0.48         0.68   \n",
       "GER          0.60         0.56         0.48         0.56         0.56   \n",
       "US           0.56         0.56         0.32         0.56         0.44   \n",
       "ARG          0.40         0.52         0.56         0.60         0.28   \n",
       "POR          0.40         0.48         0.36         0.60         0.48   \n",
       "RUS          0.60         0.64         0.52         0.64         0.52   \n",
       "CHN          0.56         0.56         0.56         0.32         0.40   \n",
       "SAFR         0.56         0.32         0.36         0.36         0.76   \n",
       "QAT          0.52         0.36         0.44         0.68         0.76   \n",
       "\n",
       "      d=6 | err_v  d=7 | err_v  \n",
       "CAN          0.48         0.52  \n",
       "GER          0.36         0.60  \n",
       "US           0.40         0.36  \n",
       "ARG          0.48         0.44  \n",
       "POR          0.48         0.60  \n",
       "RUS          0.52         0.64  \n",
       "CHN          0.48         0.48  \n",
       "SAFR         0.60         0.56  \n",
       "QAT          0.56         0.56  "
      ]
     },
     "execution_count": 46,
     "metadata": {},
     "output_type": "execute_result"
    }
   ],
   "source": [
    "table5.loc[:,table5.columns.str.contains(\"/*err_v\")]"
   ]
  },
  {
   "cell_type": "markdown",
   "metadata": {},
   "source": [
    "## Displaying model performance for one country"
   ]
  },
  {
   "cell_type": "code",
   "execution_count": 153,
   "metadata": {},
   "outputs": [],
   "source": [
    "country = \"CAN\""
   ]
  },
  {
   "cell_type": "code",
   "execution_count": 154,
   "metadata": {},
   "outputs": [
    {
     "data": {
      "text/html": [
       "<div>\n",
       "<style scoped>\n",
       "    .dataframe tbody tr th:only-of-type {\n",
       "        vertical-align: middle;\n",
       "    }\n",
       "\n",
       "    .dataframe tbody tr th {\n",
       "        vertical-align: top;\n",
       "    }\n",
       "\n",
       "    .dataframe thead th {\n",
       "        text-align: right;\n",
       "    }\n",
       "</style>\n",
       "<table border=\"1\" class=\"dataframe\">\n",
       "  <thead>\n",
       "    <tr style=\"text-align: right;\">\n",
       "      <th></th>\n",
       "      <th>Training Error (mean)</th>\n",
       "      <th>Validation Error</th>\n",
       "      <th>AUC Scores</th>\n",
       "    </tr>\n",
       "  </thead>\n",
       "  <tbody>\n",
       "    <tr>\n",
       "      <th>CAN</th>\n",
       "      <td>0.309915</td>\n",
       "      <td>0.4</td>\n",
       "      <td>0.565476</td>\n",
       "    </tr>\n",
       "  </tbody>\n",
       "</table>\n",
       "</div>"
      ],
      "text/plain": [
       "     Training Error (mean)  Validation Error  AUC Scores\n",
       "CAN               0.309915               0.4    0.565476"
      ]
     },
     "execution_count": 154,
     "metadata": {},
     "output_type": "execute_result"
    }
   ],
   "source": [
    "e1[e1.index == country]"
   ]
  },
  {
   "cell_type": "code",
   "execution_count": 155,
   "metadata": {},
   "outputs": [
    {
     "data": {
      "text/html": [
       "<div>\n",
       "<style scoped>\n",
       "    .dataframe tbody tr th:only-of-type {\n",
       "        vertical-align: middle;\n",
       "    }\n",
       "\n",
       "    .dataframe tbody tr th {\n",
       "        vertical-align: top;\n",
       "    }\n",
       "\n",
       "    .dataframe thead th {\n",
       "        text-align: right;\n",
       "    }\n",
       "</style>\n",
       "<table border=\"1\" class=\"dataframe\">\n",
       "  <thead>\n",
       "    <tr style=\"text-align: right;\">\n",
       "      <th></th>\n",
       "      <th>Training Error (mean)</th>\n",
       "      <th>Validation Error</th>\n",
       "      <th>AUC Scores</th>\n",
       "    </tr>\n",
       "  </thead>\n",
       "  <tbody>\n",
       "    <tr>\n",
       "      <th>CAN</th>\n",
       "      <td>0.04792</td>\n",
       "      <td>0.44</td>\n",
       "      <td>0.559524</td>\n",
       "    </tr>\n",
       "  </tbody>\n",
       "</table>\n",
       "</div>"
      ],
      "text/plain": [
       "     Training Error (mean)  Validation Error  AUC Scores\n",
       "CAN                0.04792              0.44    0.559524"
      ]
     },
     "execution_count": 155,
     "metadata": {},
     "output_type": "execute_result"
    }
   ],
   "source": [
    "e2[e2.index == country]"
   ]
  },
  {
   "cell_type": "code",
   "execution_count": 156,
   "metadata": {},
   "outputs": [
    {
     "data": {
      "text/html": [
       "<div>\n",
       "<style scoped>\n",
       "    .dataframe tbody tr th:only-of-type {\n",
       "        vertical-align: middle;\n",
       "    }\n",
       "\n",
       "    .dataframe tbody tr th {\n",
       "        vertical-align: top;\n",
       "    }\n",
       "\n",
       "    .dataframe thead th {\n",
       "        text-align: right;\n",
       "    }\n",
       "</style>\n",
       "<table border=\"1\" class=\"dataframe\">\n",
       "  <thead>\n",
       "    <tr style=\"text-align: right;\">\n",
       "      <th></th>\n",
       "      <th>k=2 | err_t</th>\n",
       "      <th>k=2 | err_v</th>\n",
       "      <th>k=2 | auc</th>\n",
       "      <th>k=3 | err_t</th>\n",
       "      <th>k=3 | err_v</th>\n",
       "      <th>k=3 | auc</th>\n",
       "      <th>k=4 | err_t</th>\n",
       "      <th>k=4 | err_v</th>\n",
       "      <th>k=4 | auc</th>\n",
       "      <th>k=5 | err_t</th>\n",
       "      <th>k=5 | err_v</th>\n",
       "      <th>k=5 | auc</th>\n",
       "    </tr>\n",
       "  </thead>\n",
       "  <tbody>\n",
       "    <tr>\n",
       "      <th>CAN</th>\n",
       "      <td>0.16423</td>\n",
       "      <td>0.48</td>\n",
       "      <td>0.64881</td>\n",
       "      <td>0.186119</td>\n",
       "      <td>0.6</td>\n",
       "      <td>0.583333</td>\n",
       "      <td>0.190328</td>\n",
       "      <td>0.64</td>\n",
       "      <td>0.529762</td>\n",
       "      <td>0.278924</td>\n",
       "      <td>0.6</td>\n",
       "      <td>0.595238</td>\n",
       "    </tr>\n",
       "  </tbody>\n",
       "</table>\n",
       "</div>"
      ],
      "text/plain": [
       "     k=2 | err_t  k=2 | err_v  k=2 | auc  k=3 | err_t  k=3 | err_v  k=3 | auc  \\\n",
       "CAN      0.16423         0.48    0.64881     0.186119          0.6   0.583333   \n",
       "\n",
       "     k=4 | err_t  k=4 | err_v  k=4 | auc  k=5 | err_t  k=5 | err_v  k=5 | auc  \n",
       "CAN     0.190328         0.64   0.529762     0.278924          0.6   0.595238  "
      ]
     },
     "execution_count": 156,
     "metadata": {},
     "output_type": "execute_result"
    }
   ],
   "source": [
    "table3.loc[table3.index == country, table3.columns.str.contains(\"/*k=[1-5]\")]"
   ]
  },
  {
   "cell_type": "code",
   "execution_count": 157,
   "metadata": {
    "scrolled": true
   },
   "outputs": [
    {
     "data": {
      "text/html": [
       "<div>\n",
       "<style scoped>\n",
       "    .dataframe tbody tr th:only-of-type {\n",
       "        vertical-align: middle;\n",
       "    }\n",
       "\n",
       "    .dataframe tbody tr th {\n",
       "        vertical-align: top;\n",
       "    }\n",
       "\n",
       "    .dataframe thead th {\n",
       "        text-align: right;\n",
       "    }\n",
       "</style>\n",
       "<table border=\"1\" class=\"dataframe\">\n",
       "  <thead>\n",
       "    <tr style=\"text-align: right;\">\n",
       "      <th></th>\n",
       "      <th>k=6 | err_t</th>\n",
       "      <th>k=6 | err_v</th>\n",
       "      <th>k=6 | auc</th>\n",
       "      <th>k=7 | err_t</th>\n",
       "      <th>k=7 | err_v</th>\n",
       "      <th>k=7 | auc</th>\n",
       "      <th>k=8 | err_t</th>\n",
       "      <th>k=8 | err_v</th>\n",
       "      <th>k=8 | auc</th>\n",
       "      <th>k=9 | err_t</th>\n",
       "      <th>k=9 | err_v</th>\n",
       "      <th>k=9 | auc</th>\n",
       "    </tr>\n",
       "  </thead>\n",
       "  <tbody>\n",
       "    <tr>\n",
       "      <th>CAN</th>\n",
       "      <td>0.340473</td>\n",
       "      <td>0.6</td>\n",
       "      <td>0.488095</td>\n",
       "      <td>0.332264</td>\n",
       "      <td>0.48</td>\n",
       "      <td>0.511905</td>\n",
       "      <td>0.392488</td>\n",
       "      <td>0.48</td>\n",
       "      <td>0.482143</td>\n",
       "      <td>0.341355</td>\n",
       "      <td>0.48</td>\n",
       "      <td>0.440476</td>\n",
       "    </tr>\n",
       "  </tbody>\n",
       "</table>\n",
       "</div>"
      ],
      "text/plain": [
       "     k=6 | err_t  k=6 | err_v  k=6 | auc  k=7 | err_t  k=7 | err_v  k=7 | auc  \\\n",
       "CAN     0.340473          0.6   0.488095     0.332264         0.48   0.511905   \n",
       "\n",
       "     k=8 | err_t  k=8 | err_v  k=8 | auc  k=9 | err_t  k=9 | err_v  k=9 | auc  \n",
       "CAN     0.392488         0.48   0.482143     0.341355         0.48   0.440476  "
      ]
     },
     "execution_count": 157,
     "metadata": {},
     "output_type": "execute_result"
    }
   ],
   "source": [
    "table3.loc[table3.index == country, table3.columns.str.contains(\"/*k=[6-9]\")]"
   ]
  },
  {
   "cell_type": "code",
   "execution_count": 158,
   "metadata": {
    "scrolled": true
   },
   "outputs": [
    {
     "data": {
      "text/html": [
       "<div>\n",
       "<style scoped>\n",
       "    .dataframe tbody tr th:only-of-type {\n",
       "        vertical-align: middle;\n",
       "    }\n",
       "\n",
       "    .dataframe tbody tr th {\n",
       "        vertical-align: top;\n",
       "    }\n",
       "\n",
       "    .dataframe thead th {\n",
       "        text-align: right;\n",
       "    }\n",
       "</style>\n",
       "<table border=\"1\" class=\"dataframe\">\n",
       "  <thead>\n",
       "    <tr style=\"text-align: right;\">\n",
       "      <th></th>\n",
       "      <th>Training Error (mean)</th>\n",
       "      <th>Validation Error</th>\n",
       "      <th>AUC Scores</th>\n",
       "    </tr>\n",
       "  </thead>\n",
       "  <tbody>\n",
       "    <tr>\n",
       "      <th>CAN</th>\n",
       "      <td>0.380772</td>\n",
       "      <td>0.52</td>\n",
       "      <td>0.452381</td>\n",
       "    </tr>\n",
       "  </tbody>\n",
       "</table>\n",
       "</div>"
      ],
      "text/plain": [
       "     Training Error (mean)  Validation Error  AUC Scores\n",
       "CAN               0.380772              0.52    0.452381"
      ]
     },
     "execution_count": 158,
     "metadata": {},
     "output_type": "execute_result"
    }
   ],
   "source": [
    "e4[e4.index == country]"
   ]
  },
  {
   "cell_type": "code",
   "execution_count": 159,
   "metadata": {},
   "outputs": [
    {
     "data": {
      "text/html": [
       "<div>\n",
       "<style scoped>\n",
       "    .dataframe tbody tr th:only-of-type {\n",
       "        vertical-align: middle;\n",
       "    }\n",
       "\n",
       "    .dataframe tbody tr th {\n",
       "        vertical-align: top;\n",
       "    }\n",
       "\n",
       "    .dataframe thead th {\n",
       "        text-align: right;\n",
       "    }\n",
       "</style>\n",
       "<table border=\"1\" class=\"dataframe\">\n",
       "  <thead>\n",
       "    <tr style=\"text-align: right;\">\n",
       "      <th></th>\n",
       "      <th>d=1 | err_t</th>\n",
       "      <th>d=1 | err_v</th>\n",
       "      <th>d=1 | auc</th>\n",
       "      <th>d=2 | err_t</th>\n",
       "      <th>d=2 | err_v</th>\n",
       "      <th>d=2 | auc</th>\n",
       "      <th>d=3 | err_t</th>\n",
       "      <th>d=3 | err_v</th>\n",
       "      <th>d=3 | auc</th>\n",
       "    </tr>\n",
       "  </thead>\n",
       "  <tbody>\n",
       "    <tr>\n",
       "      <th>CAN</th>\n",
       "      <td>0.466445</td>\n",
       "      <td>0.48</td>\n",
       "      <td>0.470238</td>\n",
       "      <td>0.473343</td>\n",
       "      <td>0.44</td>\n",
       "      <td>0.630952</td>\n",
       "      <td>0.468649</td>\n",
       "      <td>0.44</td>\n",
       "      <td>0.494048</td>\n",
       "    </tr>\n",
       "  </tbody>\n",
       "</table>\n",
       "</div>"
      ],
      "text/plain": [
       "     d=1 | err_t  d=1 | err_v  d=1 | auc  d=2 | err_t  d=2 | err_v  d=2 | auc  \\\n",
       "CAN     0.466445         0.48   0.470238     0.473343         0.44   0.630952   \n",
       "\n",
       "     d=3 | err_t  d=3 | err_v  d=3 | auc  \n",
       "CAN     0.468649         0.44   0.494048  "
      ]
     },
     "execution_count": 159,
     "metadata": {},
     "output_type": "execute_result"
    }
   ],
   "source": [
    "table5.loc[table5.index == country, table5.columns.str.contains(\"/*d=[1-3]\")]"
   ]
  },
  {
   "cell_type": "code",
   "execution_count": 160,
   "metadata": {},
   "outputs": [
    {
     "data": {
      "text/html": [
       "<div>\n",
       "<style scoped>\n",
       "    .dataframe tbody tr th:only-of-type {\n",
       "        vertical-align: middle;\n",
       "    }\n",
       "\n",
       "    .dataframe tbody tr th {\n",
       "        vertical-align: top;\n",
       "    }\n",
       "\n",
       "    .dataframe thead th {\n",
       "        text-align: right;\n",
       "    }\n",
       "</style>\n",
       "<table border=\"1\" class=\"dataframe\">\n",
       "  <thead>\n",
       "    <tr style=\"text-align: right;\">\n",
       "      <th></th>\n",
       "      <th>d=4 | err_t</th>\n",
       "      <th>d=4 | err_v</th>\n",
       "      <th>d=4 | auc</th>\n",
       "      <th>d=5 | err_t</th>\n",
       "      <th>d=5 | err_v</th>\n",
       "      <th>d=5 | auc</th>\n",
       "      <th>d=6 | err_t</th>\n",
       "      <th>d=6 | err_v</th>\n",
       "      <th>d=6 | auc</th>\n",
       "      <th>d=7 | err_t</th>\n",
       "      <th>d=7 | err_v</th>\n",
       "      <th>d=7 | auc</th>\n",
       "    </tr>\n",
       "  </thead>\n",
       "  <tbody>\n",
       "    <tr>\n",
       "      <th>CAN</th>\n",
       "      <td>0.478317</td>\n",
       "      <td>0.48</td>\n",
       "      <td>0.5</td>\n",
       "      <td>0.505157</td>\n",
       "      <td>0.68</td>\n",
       "      <td>0.553571</td>\n",
       "      <td>0.485966</td>\n",
       "      <td>0.48</td>\n",
       "      <td>0.5</td>\n",
       "      <td>0.48731</td>\n",
       "      <td>0.52</td>\n",
       "      <td>0.5</td>\n",
       "    </tr>\n",
       "  </tbody>\n",
       "</table>\n",
       "</div>"
      ],
      "text/plain": [
       "     d=4 | err_t  d=4 | err_v  d=4 | auc  d=5 | err_t  d=5 | err_v  d=5 | auc  \\\n",
       "CAN     0.478317         0.48        0.5     0.505157         0.68   0.553571   \n",
       "\n",
       "     d=6 | err_t  d=6 | err_v  d=6 | auc  d=7 | err_t  d=7 | err_v  d=7 | auc  \n",
       "CAN     0.485966         0.48        0.5      0.48731         0.52        0.5  "
      ]
     },
     "execution_count": 160,
     "metadata": {},
     "output_type": "execute_result"
    }
   ],
   "source": [
    "table5.loc[table5.index == country, table5.columns.str.contains(\"/*d=[4-7]\")]"
   ]
  }
 ],
 "metadata": {
  "kernelspec": {
   "display_name": "Python 3",
   "language": "python",
   "name": "python3"
  },
  "language_info": {
   "codemirror_mode": {
    "name": "ipython",
    "version": 3
   },
   "file_extension": ".py",
   "mimetype": "text/x-python",
   "name": "python",
   "nbconvert_exporter": "python",
   "pygments_lexer": "ipython3",
   "version": "3.8.5"
  }
 },
 "nbformat": 4,
 "nbformat_minor": 4
}
