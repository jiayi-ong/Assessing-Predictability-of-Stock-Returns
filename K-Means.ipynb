{
 "cells": [
  {
   "cell_type": "markdown",
   "metadata": {},
   "source": [
    "# Code Appendix: Stage 1"
   ]
  },
  {
   "cell_type": "code",
   "execution_count": 1,
   "metadata": {},
   "outputs": [],
   "source": [
    "import math\n",
    "import pandas as pd\n",
    "import numpy as np\n",
    "import matplotlib.pyplot as plt\n",
    "from sklearn.cluster import KMeans\n",
    "from sklearn.decomposition import PCA\n",
    "from sklearn.preprocessing import StandardScaler"
   ]
  },
  {
   "cell_type": "code",
   "execution_count": 2,
   "metadata": {},
   "outputs": [],
   "source": [
    "path = ('C:/Users/Ong Jia Yi/Desktop/STUDY/4b. Fall 2020 - Winter 2021/'\n",
    "        'Winter - ECO421H (Macroeconomic Finance)/Assignments/Project/Data/'\n",
    "        'clustering_dataset.csv')\n",
    "data = pd.read_csv(path, encoding = \"ISO-8859-1\")"
   ]
  },
  {
   "cell_type": "code",
   "execution_count": 3,
   "metadata": {},
   "outputs": [
    {
     "data": {
      "text/plain": [
       "(189, 19)"
      ]
     },
     "execution_count": 3,
     "metadata": {},
     "output_type": "execute_result"
    }
   ],
   "source": [
    "data.shape"
   ]
  },
  {
   "cell_type": "code",
   "execution_count": 4,
   "metadata": {},
   "outputs": [
    {
     "data": {
      "text/plain": [
       "Index(['country', 'HDI', 'life_exp_at_birth', 'exp_years_of_schl',\n",
       "       'mean_years_of_schl', 'GNI_pc', 'labour_part_F', 'labour_part_M',\n",
       "       'urban_perc', 'employ_agri_perc', 'employ_service_perc', 'exp_imp_perc',\n",
       "       'FDI_net_perc', 'remitt_flow_perc', 'net_migration',\n",
       "       'immigrant_stock_perc', 'int_inbound_tourist', 'internet_users_perc',\n",
       "       'mobile_subscriptions'],\n",
       "      dtype='object')"
      ]
     },
     "execution_count": 4,
     "metadata": {},
     "output_type": "execute_result"
    }
   ],
   "source": [
    "data.columns"
   ]
  },
  {
   "cell_type": "code",
   "execution_count": 5,
   "metadata": {},
   "outputs": [
    {
     "data": {
      "text/plain": [
       "(143, 19)"
      ]
     },
     "execution_count": 5,
     "metadata": {},
     "output_type": "execute_result"
    }
   ],
   "source": [
    "data_cleaned = data.dropna(axis=0)\n",
    "data_cleaned =data_cleaned.drop(data_cleaned[\n",
    "    data_cleaned.country.isin([\"Oman\", \"Lebanon\", \"Algeria\", 'Azerbaijan', 'Suriname', 'Iran (Islamic Republic of)',\n",
    "                               \"Saint Vincent and the Grenadines\", 'North Macedonia', 'Ecuador', 'Dominican Republic',\n",
    "                               \"Georgia\"\n",
    "                              ])].index)\n",
    "data_cleaned.shape"
   ]
  },
  {
   "cell_type": "code",
   "execution_count": 6,
   "metadata": {},
   "outputs": [],
   "source": [
    "# subset data based on top percentile of GNI_pc\n",
    "data_cleaned = data_cleaned.sort_values(['GNI_pc'], ascending = False)\n",
    "n = math.floor(data_cleaned.shape[0]*0.55)\n",
    "data_cleaned = data_cleaned.head(n)\n",
    "\n",
    "# reset index\n",
    "data_cleaned.reset_index(inplace=True)\n",
    "data_cleaned = data_cleaned.drop([\"index\"], axis=1)"
   ]
  },
  {
   "cell_type": "code",
   "execution_count": 7,
   "metadata": {},
   "outputs": [
    {
     "data": {
      "text/plain": [
       "(78, 19)"
      ]
     },
     "execution_count": 7,
     "metadata": {},
     "output_type": "execute_result"
    }
   ],
   "source": [
    "data_cleaned.shape"
   ]
  },
  {
   "cell_type": "markdown",
   "metadata": {},
   "source": [
    "## PCA"
   ]
  },
  {
   "cell_type": "code",
   "execution_count": 8,
   "metadata": {},
   "outputs": [],
   "source": [
    "standardized = StandardScaler().fit_transform(data_cleaned.drop([\"country\"], axis=1))"
   ]
  },
  {
   "cell_type": "code",
   "execution_count": 38,
   "metadata": {},
   "outputs": [],
   "source": [
    "pca = PCA(n_components=standardized.shape[1])\n",
    "principalComponents = pca.fit_transform(standardized)\n",
    "\n",
    "index = pd.Index(data_cleaned.index.values.tolist())\n",
    "PCA_components = pd.DataFrame(principalComponents, index=index)\n",
    "PCA_components.set_index = data_cleaned.index.values\n",
    "\n",
    "index = data_cleaned.drop([\"country\"], axis=1).columns\n",
    "loadings = pd.DataFrame(pca.components_[:2].T, columns=['PC1', 'PC2'], index=index )"
   ]
  },
  {
   "cell_type": "code",
   "execution_count": 107,
   "metadata": {},
   "outputs": [
    {
     "data": {
      "text/plain": [
       "<function matplotlib.pyplot.show(close=None, block=None)>"
      ]
     },
     "execution_count": 107,
     "metadata": {},
     "output_type": "execute_result"
    },
    {
     "data": {
      "image/png": "[encoded data removed]",
      "text/plain": [
       "<Figure size 432x288 with 1 Axes>"
      ]
     },
     "metadata": {
      "needs_background": "light"
     },
     "output_type": "display_data"
    }
   ],
   "source": [
    "features = range(1, pca.n_components_+1)\n",
    "plot_data = pd.DataFrame(pca.explained_variance_ratio_,\n",
    "                         index=features)\n",
    "plt.plot(plot_data, color='red')\n",
    "plt.xlabel('PCA features')\n",
    "plt.ylabel('Variance %')\n",
    "plt.title('Screeplot: % of Variation Explained vs. Principal Component')\n",
    "plt.xticks(features)\n",
    "plt.grid(alpha=0.5)\n",
    "plt.savefig('stage_1 - PCA_screeplot.png')\n",
    "plt.show"
   ]
  },
  {
   "cell_type": "code",
   "execution_count": 108,
   "metadata": {},
   "outputs": [
    {
     "data": {
      "text/plain": [
       "<function matplotlib.pyplot.show(close=None, block=None)>"
      ]
     },
     "execution_count": 108,
     "metadata": {},
     "output_type": "execute_result"
    },
    {
     "data": {
      "image/png": "[encoded data removed]",
      "text/plain": [
       "<Figure size 432x288 with 1 Axes>"
      ]
     },
     "metadata": {
      "needs_background": "light"
     },
     "output_type": "display_data"
    }
   ],
   "source": [
    "plt.scatter(PCA_components[0], PCA_components[1], alpha=1, \n",
    "            color='black')\n",
    "plt.xlabel('PCA 1')\n",
    "plt.ylabel('PCA 2')\n",
    "plt.title('Scatter Plot: PCA 1 and 2')\n",
    "plt.grid(alpha=0.5)\n",
    "plt.savefig('stage_1 - PCA scatter.png')\n",
    "plt.show"
   ]
  },
  {
   "cell_type": "code",
   "execution_count": 58,
   "metadata": {},
   "outputs": [
    {
     "data": {
      "text/html": [
       "<div>\n",
       "<style scoped>\n",
       "    .dataframe tbody tr th:only-of-type {\n",
       "        vertical-align: middle;\n",
       "    }\n",
       "\n",
       "    .dataframe tbody tr th {\n",
       "        vertical-align: top;\n",
       "    }\n",
       "\n",
       "    .dataframe thead th {\n",
       "        text-align: right;\n",
       "    }\n",
       "</style>\n",
       "<table border=\"1\" class=\"dataframe\">\n",
       "  <thead>\n",
       "    <tr style=\"text-align: right;\">\n",
       "      <th></th>\n",
       "      <th>PC1</th>\n",
       "      <th>PC2</th>\n",
       "    </tr>\n",
       "  </thead>\n",
       "  <tbody>\n",
       "    <tr>\n",
       "      <th>HDI</th>\n",
       "      <td>-0.350079</td>\n",
       "      <td>-0.195851</td>\n",
       "    </tr>\n",
       "    <tr>\n",
       "      <th>life_exp_at_birth</th>\n",
       "      <td>-0.296319</td>\n",
       "      <td>-0.105218</td>\n",
       "    </tr>\n",
       "    <tr>\n",
       "      <th>exp_years_of_schl</th>\n",
       "      <td>-0.269180</td>\n",
       "      <td>-0.227864</td>\n",
       "    </tr>\n",
       "    <tr>\n",
       "      <th>mean_years_of_schl</th>\n",
       "      <td>-0.256055</td>\n",
       "      <td>-0.334619</td>\n",
       "    </tr>\n",
       "    <tr>\n",
       "      <th>GNI_pc</th>\n",
       "      <td>-0.331763</td>\n",
       "      <td>0.071086</td>\n",
       "    </tr>\n",
       "    <tr>\n",
       "      <th>labour_part_F</th>\n",
       "      <td>-0.163522</td>\n",
       "      <td>0.063037</td>\n",
       "    </tr>\n",
       "    <tr>\n",
       "      <th>labour_part_M</th>\n",
       "      <td>0.022759</td>\n",
       "      <td>0.552457</td>\n",
       "    </tr>\n",
       "    <tr>\n",
       "      <th>urban_perc</th>\n",
       "      <td>-0.255842</td>\n",
       "      <td>0.144823</td>\n",
       "    </tr>\n",
       "    <tr>\n",
       "      <th>employ_agri_perc</th>\n",
       "      <td>0.314862</td>\n",
       "      <td>0.019593</td>\n",
       "    </tr>\n",
       "    <tr>\n",
       "      <th>employ_service_perc</th>\n",
       "      <td>-0.308940</td>\n",
       "      <td>-0.032008</td>\n",
       "    </tr>\n",
       "    <tr>\n",
       "      <th>exp_imp_perc</th>\n",
       "      <td>-0.129199</td>\n",
       "      <td>0.007654</td>\n",
       "    </tr>\n",
       "    <tr>\n",
       "      <th>FDI_net_perc</th>\n",
       "      <td>0.002248</td>\n",
       "      <td>-0.035869</td>\n",
       "    </tr>\n",
       "    <tr>\n",
       "      <th>remitt_flow_perc</th>\n",
       "      <td>0.201359</td>\n",
       "      <td>-0.292655</td>\n",
       "    </tr>\n",
       "    <tr>\n",
       "      <th>net_migration</th>\n",
       "      <td>-0.164759</td>\n",
       "      <td>0.397295</td>\n",
       "    </tr>\n",
       "    <tr>\n",
       "      <th>immigrant_stock_perc</th>\n",
       "      <td>-0.219361</td>\n",
       "      <td>0.337350</td>\n",
       "    </tr>\n",
       "    <tr>\n",
       "      <th>int_inbound_tourist</th>\n",
       "      <td>-0.078048</td>\n",
       "      <td>-0.097168</td>\n",
       "    </tr>\n",
       "    <tr>\n",
       "      <th>internet_users_perc</th>\n",
       "      <td>-0.326390</td>\n",
       "      <td>-0.044276</td>\n",
       "    </tr>\n",
       "    <tr>\n",
       "      <th>mobile_subscriptions</th>\n",
       "      <td>-0.095533</td>\n",
       "      <td>0.282877</td>\n",
       "    </tr>\n",
       "  </tbody>\n",
       "</table>\n",
       "</div>"
      ],
      "text/plain": [
       "                           PC1       PC2\n",
       "HDI                  -0.350079 -0.195851\n",
       "life_exp_at_birth    -0.296319 -0.105218\n",
       "exp_years_of_schl    -0.269180 -0.227864\n",
       "mean_years_of_schl   -0.256055 -0.334619\n",
       "GNI_pc               -0.331763  0.071086\n",
       "labour_part_F        -0.163522  0.063037\n",
       "labour_part_M         0.022759  0.552457\n",
       "urban_perc           -0.255842  0.144823\n",
       "employ_agri_perc      0.314862  0.019593\n",
       "employ_service_perc  -0.308940 -0.032008\n",
       "exp_imp_perc         -0.129199  0.007654\n",
       "FDI_net_perc          0.002248 -0.035869\n",
       "remitt_flow_perc      0.201359 -0.292655\n",
       "net_migration        -0.164759  0.397295\n",
       "immigrant_stock_perc -0.219361  0.337350\n",
       "int_inbound_tourist  -0.078048 -0.097168\n",
       "internet_users_perc  -0.326390 -0.044276\n",
       "mobile_subscriptions -0.095533  0.282877"
      ]
     },
     "execution_count": 58,
     "metadata": {},
     "output_type": "execute_result"
    }
   ],
   "source": [
    "loadings"
   ]
  },
  {
   "cell_type": "markdown",
   "metadata": {},
   "source": [
    "## K-Means"
   ]
  },
  {
   "cell_type": "markdown",
   "metadata": {},
   "source": [
    "### Tune Hyperparameter"
   ]
  },
  {
   "cell_type": "code",
   "execution_count": 80,
   "metadata": {},
   "outputs": [],
   "source": [
    "num_pc = 2\n",
    "PC_data = PCA_components.iloc[:,:num_pc]"
   ]
  },
  {
   "cell_type": "code",
   "execution_count": 81,
   "metadata": {},
   "outputs": [],
   "source": [
    "K = 15\n",
    "totwss_list = []\n",
    "for k in range(1,K+1):\n",
    "    kmeans = KMeans(init=\"k-means++\", n_clusters=k, n_init=5, random_state=0)\n",
    "    fit = kmeans.fit(PC_data)\n",
    "    totwss = fit.inertia_\n",
    "    totwss_list.append(totwss)"
   ]
  },
  {
   "cell_type": "code",
   "execution_count": 109,
   "metadata": {},
   "outputs": [
    {
     "data": {
      "text/plain": [
       "<function matplotlib.pyplot.show(close=None, block=None)>"
      ]
     },
     "execution_count": 109,
     "metadata": {},
     "output_type": "execute_result"
    },
    {
     "data": {
      "image/png": "[encoded data removed]",
      "text/plain": [
       "<Figure size 432x288 with 1 Axes>"
      ]
     },
     "metadata": {
      "needs_background": "light"
     },
     "output_type": "display_data"
    }
   ],
   "source": [
    "plot_data = pd.DataFrame(totwss_list)\n",
    "plot_data = pd.DataFrame(plot_data, index=range(1,15))\n",
    "plt.plot(plot_data, alpha=1, color=\"red\")\n",
    "plt.xlabel('K: Number of Clusters')\n",
    "plt.ylabel('totwss: Total Within Sum-of-Squares')\n",
    "plt.title('Screeplot: totwss vs. K')\n",
    "plt.xticks(range(1,15))\n",
    "plt.grid(alpha=0.5)\n",
    "plt.savefig('stage_1 - K_screeplot.png')\n",
    "plt.show"
   ]
  },
  {
   "cell_type": "markdown",
   "metadata": {},
   "source": [
    "### Fit Final Model"
   ]
  },
  {
   "cell_type": "code",
   "execution_count": 96,
   "metadata": {},
   "outputs": [],
   "source": [
    "K = 4\n",
    "kmeans = KMeans(init=\"k-means++\", n_clusters=K, n_init=5, random_state=0)\n",
    "fit = kmeans.fit(PC_data)"
   ]
  },
  {
   "cell_type": "code",
   "execution_count": 111,
   "metadata": {},
   "outputs": [
    {
     "data": {
      "text/plain": [
       "<function matplotlib.pyplot.show(close=None, block=None)>"
      ]
     },
     "execution_count": 111,
     "metadata": {},
     "output_type": "execute_result"
    },
    {
     "data": {
      "image/png": "[encoded data removed]",
      "text/plain": [
       "<Figure size 432x288 with 1 Axes>"
      ]
     },
     "metadata": {
      "needs_background": "light"
     },
     "output_type": "display_data"
    }
   ],
   "source": [
    "plt.scatter(PCA_components[0], PCA_components[1], alpha=1, c=fit.labels_)\n",
    "plt.xlabel('PCA 1')\n",
    "plt.ylabel('PCA 2')\n",
    "plt.title(\"Scatter plot: PCA 1 and 2, Clustered\")\n",
    "plt.grid(alpha=0.5)\n",
    "plt.savefig('stage_1 - K_scatter.png')\n",
    "plt.show"
   ]
  },
  {
   "cell_type": "code",
   "execution_count": 796,
   "metadata": {},
   "outputs": [
    {
     "data": {
      "text/plain": [
       "Series([], Name: country, dtype: object)"
      ]
     },
     "execution_count": 796,
     "metadata": {},
     "output_type": "execute_result"
    }
   ],
   "source": [
    "# see countries by cluster\n",
    "data_cleaned.loc[np.where(fit.labels_ == 4)[0].tolist(),\"country\"]"
   ]
  },
  {
   "cell_type": "markdown",
   "metadata": {},
   "source": [
    "### Define function to extract country closest to cluster center"
   ]
  },
  {
   "cell_type": "code",
   "execution_count": 797,
   "metadata": {},
   "outputs": [],
   "source": [
    "def closest(data, center, n):\n",
    "    \"\"\"Return the indexes of the n closest datapoints\n",
    "    to the center of the cluster they are in.\n",
    "    \n",
    "    Precondition: n <= data.shape[0]\n",
    "    \n",
    "    Input:\n",
    "    -  data: a pandas dataframe of the coordinates of \n",
    "             every datapoint in the same cluster\n",
    "    -  center: a numpy array of the center coordinates\n",
    "    -  n: an integer\n",
    "    Output:\n",
    "    -  a dictionary containing an array of the indexes of the \n",
    "       n closest datapoints and their distances\n",
    "    \"\"\"\n",
    "    def euclidean(point, center):\n",
    "        dist = np.linalg.norm(point - center)\n",
    "        return dist\n",
    "\n",
    "    distances = np.apply_along_axis(euclidean, 1, data, center)\n",
    "    distances = pd.DataFrame(distances)\n",
    "    distances = distances.sort_values(distances.columns[0], ascending=True)\n",
    "    \n",
    "    dists = distances.head(n)\n",
    "    indexes = dists.index.values\n",
    "    \n",
    "    return {\"indexes\": data.index.values[indexes], \"dists\": dists[0].tolist()}"
   ]
  },
  {
   "cell_type": "code",
   "execution_count": 802,
   "metadata": {},
   "outputs": [
    {
     "name": "stdout",
     "output_type": "stream",
     "text": [
      "['Slovakia: 0.45', 'Barbados: 0.46', 'Belarus: 0.49', 'Portugal: 0.56', 'Russian Federation: 0.63', 'Argentina: 0.75']\n",
      "['Tunisia: 0.24', 'Mongolia: 0.71', 'China: 0.73', 'South Africa: 1.16', 'Armenia: 1.17', 'Mexico: 1.38']\n",
      "['Canada: 0.13', 'Germany: 0.26', 'United States: 0.35', 'United Kingdom: 0.36', 'Ireland: 0.39', 'Israel: 0.42']\n",
      "['Kuwait: 1.01', 'Qatar: 1.69', 'Maldives: 2.67']\n"
     ]
    }
   ],
   "source": [
    "# displaying n closest countries to each cluster center\n",
    "# and their respective distances\n",
    "n = 6\n",
    "for i in range(K):\n",
    "    subdata = PC_data.iloc[fit.labels_ == i,:]\n",
    "    center = fit.cluster_centers_[i]\n",
    "    out = closest(subdata, center, n)\n",
    "    printout = [j + \": \" + str(round(k, 2)) for j,k in \n",
    "                zip(data_cleaned.loc[out[\"indexes\"], \"country\"], out[\"dists\"])]\n",
    "    print(printout)"
   ]
  }
 ],
 "metadata": {
  "kernelspec": {
   "display_name": "Python 3",
   "language": "python",
   "name": "python3"
  },
  "language_info": {
   "codemirror_mode": {
    "name": "ipython",
    "version": 3
   },
   "file_extension": ".py",
   "mimetype": "text/x-python",
   "name": "python",
   "nbconvert_exporter": "python",
   "pygments_lexer": "ipython3",
   "version": "3.8.5"
  }
 },
 "nbformat": 4,
 "nbformat_minor": 4
}
